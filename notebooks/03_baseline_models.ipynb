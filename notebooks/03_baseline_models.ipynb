{
  "cells": [
    {
      "cell_type": "code",
      "execution_count": null,
      "metadata": {
        "vscode": {
          "languageId": "plaintext"
        }
      },
      "outputs": [],
      "source": [
        "# 03. Baseline Models for Yield Curve Forecasting\n",
        "\n",
        "## Purpose\n",
        "This notebook implements and evaluates baseline models for yield curve forecasting. These models serve as benchmarks for more sophisticated machine learning approaches and provide interpretable results.\n",
        "\n",
        "## Objectives\n",
        "1. **Linear Regression Models** - Simple linear and multivariate regression\n",
        "2. **ARIMA Models** - Autoregressive integrated moving average for each tenor\n",
        "3. **Vector Autoregression (VAR)** - Multi-variate time series modeling\n",
        "4. **Nelson-Siegel Model** - Parametric yield curve fitting and forecasting\n",
        "5. **Random Walk** - Naive forecast as ultimate baseline\n",
        "6. **Model Evaluation** - Compare performance using RMSE, MAE, MAPE metrics\n",
        "7. **Cross-validation** - Time series split validation for robust evaluation\n",
        "\n",
        "## Expected Outputs\n",
        "- Trained baseline models saved to models/trained/\n",
        "- Model performance comparison table\n",
        "- Forecast visualizations for each model\n",
        "- Residual analysis and diagnostic plots\n",
        "- Baseline performance metrics for ML model comparison\n",
        "\n",
        "## Dependencies\n",
        "- Engineered features from notebook 02\n",
        "- Model configuration parameters\n",
        "- Train/validation/test data splits\n"
      ]
    }
  ],
  "metadata": {
    "language_info": {
      "name": "python"
    }
  },
  "nbformat": 4,
  "nbformat_minor": 2
}
