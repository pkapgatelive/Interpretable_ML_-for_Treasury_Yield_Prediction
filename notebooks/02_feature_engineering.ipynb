{
  "cells": [
    {
      "cell_type": "code",
      "execution_count": null,
      "metadata": {
        "vscode": {
          "languageId": "plaintext"
        }
      },
      "outputs": [],
      "source": [
        "# 02. Feature Engineering for Yield Curve Modeling\n",
        "\n",
        "## Purpose\n",
        "This notebook transforms raw yield curve data and macroeconomic indicators into engineered features suitable for machine learning models. It creates both traditional financial features and advanced technical indicators.\n",
        "\n",
        "## Objectives\n",
        "1. **Create yield curve factors** - level, slope, curvature, twist, butterfly\n",
        "2. **Generate technical indicators** - moving averages, RSI, Bollinger bands, MACD\n",
        "3. **Engineer macroeconomic features** - growth rates, lags, volatility measures\n",
        "4. **Create lag features** for time series modeling\n",
        "5. **Apply feature scaling and normalization**\n",
        "6. **Perform feature selection** to identify most informative variables\n",
        "7. **Generate interaction features** between yield curve and macro variables\n",
        "\n",
        "## Expected Outputs\n",
        "- Engineered feature dataset ready for modeling\n",
        "- Feature importance rankings\n",
        "- Feature correlation analysis\n",
        "- Scaled and normalized features\n",
        "- Feature metadata and documentation\n",
        "\n",
        "## Dependencies\n",
        "- Cleaned yield curve data from notebook 01\n",
        "- Processed macroeconomic data\n",
        "- Feature engineering configuration parameters\n"
      ]
    }
  ],
  "metadata": {
    "language_info": {
      "name": "python"
    }
  },
  "nbformat": 4,
  "nbformat_minor": 2
}
